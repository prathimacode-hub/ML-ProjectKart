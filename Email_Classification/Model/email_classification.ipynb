{
  "nbformat": 4,
  "nbformat_minor": 0,
  "metadata": {
    "kernelspec": {
      "display_name": "Python 3",
      "language": "python",
      "name": "python3"
    },
    "language_info": {
      "codemirror_mode": {
        "name": "ipython",
        "version": 3
      },
      "file_extension": ".py",
      "mimetype": "text/x-python",
      "name": "python",
      "nbconvert_exporter": "python",
      "pygments_lexer": "ipython3",
      "version": "3.7.4"
    },
    "colab": {
      "name": "spamMails.ipynb",
      "provenance": [],
      "toc_visible": true,
      "include_colab_link": true
    }
  },
  "cells": [
    {
      "cell_type": "markdown",
      "metadata": {
        "id": "view-in-github",
        "colab_type": "text"
      },
      "source": [
        "<a href=\"https://colab.research.google.com/github/psyduck1203/ML-ProjectKart/blob/add-license-1/Email_Classification/Model/email_classification.ipynb\" target=\"_parent\"><img src=\"https://colab.research.google.com/assets/colab-badge.svg\" alt=\"Open In Colab\"/></a>"
      ]
    },
    {
      "cell_type": "code",
      "metadata": {
        "id": "pHFv1Ipc9-S1"
      },
      "source": [
        "import pandas as pd\n",
        "import numpy as np\n",
        "import warnings\n",
        "warnings.filterwarnings(\"ignore\")"
      ],
      "execution_count": 1,
      "outputs": []
    },
    {
      "cell_type": "code",
      "metadata": {
        "id": "y--I02be9-S6"
      },
      "source": [
        "mails = pd.read_csv(\"/content/SMS_train.csv\",encoding='ISO-8859-1')"
      ],
      "execution_count": 2,
      "outputs": []
    },
    {
      "cell_type": "code",
      "metadata": {
        "colab": {
          "base_uri": "https://localhost:8080/",
          "height": 206
        },
        "id": "zWLClxiV9-TI",
        "outputId": "92056247-6095-4b75-b2aa-2117225091d6"
      },
      "source": [
        "mails.head()"
      ],
      "execution_count": 3,
      "outputs": [
        {
          "output_type": "execute_result",
          "data": {
            "text/html": [
              "<div>\n",
              "<style scoped>\n",
              "    .dataframe tbody tr th:only-of-type {\n",
              "        vertical-align: middle;\n",
              "    }\n",
              "\n",
              "    .dataframe tbody tr th {\n",
              "        vertical-align: top;\n",
              "    }\n",
              "\n",
              "    .dataframe thead th {\n",
              "        text-align: right;\n",
              "    }\n",
              "</style>\n",
              "<table border=\"1\" class=\"dataframe\">\n",
              "  <thead>\n",
              "    <tr style=\"text-align: right;\">\n",
              "      <th></th>\n",
              "      <th>S. No.</th>\n",
              "      <th>Message_body</th>\n",
              "      <th>Label</th>\n",
              "    </tr>\n",
              "  </thead>\n",
              "  <tbody>\n",
              "    <tr>\n",
              "      <th>0</th>\n",
              "      <td>1</td>\n",
              "      <td>Rofl. Its true to its name</td>\n",
              "      <td>Non-Spam</td>\n",
              "    </tr>\n",
              "    <tr>\n",
              "      <th>1</th>\n",
              "      <td>2</td>\n",
              "      <td>The guy did some bitching but I acted like i'd...</td>\n",
              "      <td>Non-Spam</td>\n",
              "    </tr>\n",
              "    <tr>\n",
              "      <th>2</th>\n",
              "      <td>3</td>\n",
              "      <td>Pity, * was in mood for that. So...any other s...</td>\n",
              "      <td>Non-Spam</td>\n",
              "    </tr>\n",
              "    <tr>\n",
              "      <th>3</th>\n",
              "      <td>4</td>\n",
              "      <td>Will ü b going to esplanade fr home?</td>\n",
              "      <td>Non-Spam</td>\n",
              "    </tr>\n",
              "    <tr>\n",
              "      <th>4</th>\n",
              "      <td>5</td>\n",
              "      <td>This is the 2nd time we have tried 2 contact u...</td>\n",
              "      <td>Spam</td>\n",
              "    </tr>\n",
              "  </tbody>\n",
              "</table>\n",
              "</div>"
            ],
            "text/plain": [
              "   S. No.                                       Message_body     Label\n",
              "0       1                         Rofl. Its true to its name  Non-Spam\n",
              "1       2  The guy did some bitching but I acted like i'd...  Non-Spam\n",
              "2       3  Pity, * was in mood for that. So...any other s...  Non-Spam\n",
              "3       4               Will ü b going to esplanade fr home?  Non-Spam\n",
              "4       5  This is the 2nd time we have tried 2 contact u...      Spam"
            ]
          },
          "metadata": {
            "tags": []
          },
          "execution_count": 3
        }
      ]
    },
    {
      "cell_type": "code",
      "metadata": {
        "colab": {
          "base_uri": "https://localhost:8080/",
          "height": 206
        },
        "id": "rrqSlvzn9-TO",
        "outputId": "e7fb09a4-0b1a-4c9f-9077-3e80023663d5"
      },
      "source": [
        "mails.tail()"
      ],
      "execution_count": 4,
      "outputs": [
        {
          "output_type": "execute_result",
          "data": {
            "text/html": [
              "<div>\n",
              "<style scoped>\n",
              "    .dataframe tbody tr th:only-of-type {\n",
              "        vertical-align: middle;\n",
              "    }\n",
              "\n",
              "    .dataframe tbody tr th {\n",
              "        vertical-align: top;\n",
              "    }\n",
              "\n",
              "    .dataframe thead th {\n",
              "        text-align: right;\n",
              "    }\n",
              "</style>\n",
              "<table border=\"1\" class=\"dataframe\">\n",
              "  <thead>\n",
              "    <tr style=\"text-align: right;\">\n",
              "      <th></th>\n",
              "      <th>S. No.</th>\n",
              "      <th>Message_body</th>\n",
              "      <th>Label</th>\n",
              "    </tr>\n",
              "  </thead>\n",
              "  <tbody>\n",
              "    <tr>\n",
              "      <th>952</th>\n",
              "      <td>953</td>\n",
              "      <td>hows my favourite person today? r u workin har...</td>\n",
              "      <td>Non-Spam</td>\n",
              "    </tr>\n",
              "    <tr>\n",
              "      <th>953</th>\n",
              "      <td>954</td>\n",
              "      <td>How much you got for cleaning</td>\n",
              "      <td>Non-Spam</td>\n",
              "    </tr>\n",
              "    <tr>\n",
              "      <th>954</th>\n",
              "      <td>955</td>\n",
              "      <td>Sorry da. I gone mad so many pending works wha...</td>\n",
              "      <td>Non-Spam</td>\n",
              "    </tr>\n",
              "    <tr>\n",
              "      <th>955</th>\n",
              "      <td>956</td>\n",
              "      <td>Wat time ü finish?</td>\n",
              "      <td>Non-Spam</td>\n",
              "    </tr>\n",
              "    <tr>\n",
              "      <th>956</th>\n",
              "      <td>957</td>\n",
              "      <td>Just glad to be talking to you.</td>\n",
              "      <td>Non-Spam</td>\n",
              "    </tr>\n",
              "  </tbody>\n",
              "</table>\n",
              "</div>"
            ],
            "text/plain": [
              "     S. No.                                       Message_body     Label\n",
              "952     953  hows my favourite person today? r u workin har...  Non-Spam\n",
              "953     954                      How much you got for cleaning  Non-Spam\n",
              "954     955  Sorry da. I gone mad so many pending works wha...  Non-Spam\n",
              "955     956                                 Wat time ü finish?  Non-Spam\n",
              "956     957                    Just glad to be talking to you.  Non-Spam"
            ]
          },
          "metadata": {
            "tags": []
          },
          "execution_count": 4
        }
      ]
    },
    {
      "cell_type": "code",
      "metadata": {
        "colab": {
          "base_uri": "https://localhost:8080/"
        },
        "id": "gZ8jjHky9-TS",
        "outputId": "3e1c01a5-1c2e-491d-f3c2-3dc833556db5"
      },
      "source": [
        "#get rows and columns size\n",
        "mails.shape"
      ],
      "execution_count": 5,
      "outputs": [
        {
          "output_type": "execute_result",
          "data": {
            "text/plain": [
              "(957, 3)"
            ]
          },
          "metadata": {
            "tags": []
          },
          "execution_count": 5
        }
      ]
    },
    {
      "cell_type": "code",
      "metadata": {
        "colab": {
          "base_uri": "https://localhost:8080/"
        },
        "id": "YOpaeNql9-Ta",
        "outputId": "3b0d9739-2e33-454b-dd79-df1e4057314a"
      },
      "source": [
        "# get null values\n",
        "mails.isnull().sum()"
      ],
      "execution_count": 6,
      "outputs": [
        {
          "output_type": "execute_result",
          "data": {
            "text/plain": [
              "S. No.          0\n",
              "Message_body    0\n",
              "Label           0\n",
              "dtype: int64"
            ]
          },
          "metadata": {
            "tags": []
          },
          "execution_count": 6
        }
      ]
    },
    {
      "cell_type": "code",
      "metadata": {
        "colab": {
          "base_uri": "https://localhost:8080/"
        },
        "id": "73QKUt5z9-Te",
        "outputId": "7dcdc4ae-305a-4f59-9321-c3714c7a4cd3"
      },
      "source": [
        "#check if there are duplicates\n",
        "mails.duplicated().sum()"
      ],
      "execution_count": 7,
      "outputs": [
        {
          "output_type": "execute_result",
          "data": {
            "text/plain": [
              "0"
            ]
          },
          "metadata": {
            "tags": []
          },
          "execution_count": 7
        }
      ]
    },
    {
      "cell_type": "code",
      "metadata": {
        "colab": {
          "base_uri": "https://localhost:8080/"
        },
        "id": "LobB-sQM9-Tu",
        "outputId": "5edfb273-4c94-46f9-e51f-5dcf67b629d0"
      },
      "source": [
        "#lets check the way the first 4 rows looks\n",
        "for each in mails['Message_body'].head(4):\n",
        "    print(\"\\n\\n\")\n",
        "    print(each)"
      ],
      "execution_count": 8,
      "outputs": [
        {
          "output_type": "stream",
          "text": [
            "\n",
            "\n",
            "\n",
            "Rofl. Its true to its name\n",
            "\n",
            "\n",
            "\n",
            "The guy did some bitching but I acted like i'd be interested in buying something else next week and he gave it to us for free\n",
            "\n",
            "\n",
            "\n",
            "Pity, * was in mood for that. So...any other suggestions?\n",
            "\n",
            "\n",
            "\n",
            "Will ü b going to esplanade fr home?\n"
          ],
          "name": "stdout"
        }
      ]
    },
    {
      "cell_type": "code",
      "metadata": {
        "id": "2lt6gXkj9-T0"
      },
      "source": [
        "#check if we have urls\n",
        "pattern = r\"(?P<protocol>https?)://(?P<domain>[\\w\\.\\-]+)/?(?P<path>.*)\"\n",
        "urls = mails['Message_body'].str.extract(pattern)"
      ],
      "execution_count": 9,
      "outputs": []
    },
    {
      "cell_type": "code",
      "metadata": {
        "colab": {
          "base_uri": "https://localhost:8080/"
        },
        "id": "ksrxaVVV9-T2",
        "outputId": "80a3382c-e2af-4d12-a6be-212e60279a1a"
      },
      "source": [
        "urls.sum()\n",
        "#thre are no urls"
      ],
      "execution_count": 10,
      "outputs": [
        {
          "output_type": "execute_result",
          "data": {
            "text/plain": [
              "Series([], dtype: float64)"
            ]
          },
          "metadata": {
            "tags": []
          },
          "execution_count": 10
        }
      ]
    },
    {
      "cell_type": "code",
      "metadata": {
        "id": "P9Q-DTDn9-T3"
      },
      "source": [
        "#removing emails keywords\n",
        "#we will replace with \"\"\n",
        "import re\n",
        "\n",
        "pattern = r\"e[-\\s]?mail\"\n",
        "email_uniform = mails['Message_body'].str.replace(pattern , \"email\" , flags=re.I)"
      ],
      "execution_count": 11,
      "outputs": []
    },
    {
      "cell_type": "code",
      "metadata": {
        "id": "uU6O9Z4-9-T5"
      },
      "source": [
        "#working with numbers\n",
        "pattern =r\"([0-9]+)\"\n",
        "nums = mails[\"Message_body\"].str.extractall(pattern)"
      ],
      "execution_count": 12,
      "outputs": []
    },
    {
      "cell_type": "code",
      "metadata": {
        "id": "WguZycZt9-T6"
      },
      "source": [
        "import string\n",
        "import re\n",
        "x = string.punctuation\n",
        "pattern =r\"([0-9]+)\"\n",
        "def clearAll(Message_body):\n",
        "    Message_body = Message_body.replace(string.punctuation , \"\")\n",
        "    \n",
        "    return Message_body"
      ],
      "execution_count": 13,
      "outputs": []
    },
    {
      "cell_type": "code",
      "metadata": {
        "colab": {
          "base_uri": "https://localhost:8080/",
          "height": 175
        },
        "id": "J5gz-kPe9-T6",
        "outputId": "1e2b52a0-8aa1-41bb-c845-b60c93167de5"
      },
      "source": [
        "mails.head(4).apply(clearAll)"
      ],
      "execution_count": 14,
      "outputs": [
        {
          "output_type": "execute_result",
          "data": {
            "text/html": [
              "<div>\n",
              "<style scoped>\n",
              "    .dataframe tbody tr th:only-of-type {\n",
              "        vertical-align: middle;\n",
              "    }\n",
              "\n",
              "    .dataframe tbody tr th {\n",
              "        vertical-align: top;\n",
              "    }\n",
              "\n",
              "    .dataframe thead th {\n",
              "        text-align: right;\n",
              "    }\n",
              "</style>\n",
              "<table border=\"1\" class=\"dataframe\">\n",
              "  <thead>\n",
              "    <tr style=\"text-align: right;\">\n",
              "      <th></th>\n",
              "      <th>S. No.</th>\n",
              "      <th>Message_body</th>\n",
              "      <th>Label</th>\n",
              "    </tr>\n",
              "  </thead>\n",
              "  <tbody>\n",
              "    <tr>\n",
              "      <th>0</th>\n",
              "      <td>1</td>\n",
              "      <td>Rofl. Its true to its name</td>\n",
              "      <td>Non-Spam</td>\n",
              "    </tr>\n",
              "    <tr>\n",
              "      <th>1</th>\n",
              "      <td>2</td>\n",
              "      <td>The guy did some bitching but I acted like i'd...</td>\n",
              "      <td>Non-Spam</td>\n",
              "    </tr>\n",
              "    <tr>\n",
              "      <th>2</th>\n",
              "      <td>3</td>\n",
              "      <td>Pity, * was in mood for that. So...any other s...</td>\n",
              "      <td>Non-Spam</td>\n",
              "    </tr>\n",
              "    <tr>\n",
              "      <th>3</th>\n",
              "      <td>4</td>\n",
              "      <td>Will ü b going to esplanade fr home?</td>\n",
              "      <td>Non-Spam</td>\n",
              "    </tr>\n",
              "  </tbody>\n",
              "</table>\n",
              "</div>"
            ],
            "text/plain": [
              "   S. No.                                       Message_body     Label\n",
              "0       1                         Rofl. Its true to its name  Non-Spam\n",
              "1       2  The guy did some bitching but I acted like i'd...  Non-Spam\n",
              "2       3  Pity, * was in mood for that. So...any other s...  Non-Spam\n",
              "3       4               Will ü b going to esplanade fr home?  Non-Spam"
            ]
          },
          "metadata": {
            "tags": []
          },
          "execution_count": 14
        }
      ]
    },
    {
      "cell_type": "code",
      "metadata": {
        "id": "nTMqZado9-UA"
      },
      "source": [
        "# remove any non chars\n",
        "for c in range(mails.shape[0]):\n",
        "    mails['Message_body'].iloc[c] = [x for x in mails['Message_body'].iloc[c] if x not in string.punctuation]\n",
        "    mails['Message_body'].iloc[c] =''.join(mails['Message_body'].iloc[c])"
      ],
      "execution_count": 15,
      "outputs": []
    },
    {
      "cell_type": "code",
      "metadata": {
        "id": "5QFnjXky9-UD"
      },
      "source": [
        "# pattern = r\"([0-9]+)\"\n",
        "#remove the digits\n",
        "number = [\"1\" , \"2\",\"3\" ,'4' ,'5','6','7','8','9' ,\"0\"]\n",
        "for c in  range(mails.shape[0]):\n",
        "    mails['Message_body'].iloc[c] = [x for x in mails['Message_body'].iloc[c] if x not in number]\n",
        "    mails['Message_body'].iloc[c] =''.join(mails['Message_body'].iloc[c])"
      ],
      "execution_count": 16,
      "outputs": []
    },
    {
      "cell_type": "code",
      "metadata": {
        "id": "va6WhbFx9-UI"
      },
      "source": [
        "#do vectorization and covert it to matrix\n",
        "from sklearn.feature_extraction.text import CountVectorizer\n",
        "\n",
        "vec = CountVectorizer()\n",
        "\n",
        "text = vec.fit_transform(mails['Message_body'])\n"
      ],
      "execution_count": 17,
      "outputs": []
    },
    {
      "cell_type": "code",
      "metadata": {
        "colab": {
          "base_uri": "https://localhost:8080/"
        },
        "id": "dmlirqsp9-UI",
        "outputId": "a5725f31-6451-4f0c-b46f-2eb6f58a74a0"
      },
      "source": [
        "#get the labels\n",
        "y = mails['Label']\n",
        "text.shape\n"
      ],
      "execution_count": 18,
      "outputs": [
        {
          "output_type": "execute_result",
          "data": {
            "text/plain": [
              "(957, 3022)"
            ]
          },
          "metadata": {
            "tags": []
          },
          "execution_count": 18
        }
      ]
    },
    {
      "cell_type": "code",
      "metadata": {
        "id": "o4Bf3dy-9-UK"
      },
      "source": [
        "#do splitliting the data 80 to 20\n",
        "from sklearn.model_selection import train_test_split\n",
        "x_train, x_test, y_train, y_test = train_test_split(text , y , test_size = 0.2 , random_state = 0)"
      ],
      "execution_count": 19,
      "outputs": []
    },
    {
      "cell_type": "code",
      "metadata": {
        "id": "Z5CoT2iL9-UK"
      },
      "source": [
        "#training using naibayes classifier(multinomial)\n",
        "from sklearn.naive_bayes import MultinomialNB\n",
        "clf1 = MultinomialNB(alpha=1.0, class_prior=None, fit_prior=True)"
      ],
      "execution_count": 20,
      "outputs": []
    },
    {
      "cell_type": "code",
      "metadata": {
        "colab": {
          "base_uri": "https://localhost:8080/"
        },
        "id": "W8RcW8zJ9-UL",
        "outputId": "94f0945a-96ce-43cd-fe18-25fdc0ea1d58"
      },
      "source": [
        "#cross validation for naive bayes algo\n",
        "from sklearn.model_selection import cross_val_score\n",
        "valid = cross_val_score(estimator = clf1 , X = text, y=y , cv=10)\n",
        "print(\"Cross Validation results for 10 folds\")\n",
        "print(valid)\n",
        "print(f\"Mean for cross val is {valid.mean()}\")\n",
        "print(f\"std for the cross val is {valid.std()}\")"
      ],
      "execution_count": 21,
      "outputs": [
        {
          "output_type": "stream",
          "text": [
            "Cross Validation results for 10 folds\n",
            "[1.         0.95833333 0.96875    1.         0.94791667 0.92708333\n",
            " 0.94791667 0.98947368 0.96842105 0.93684211]\n",
            "Mean for cross val is 0.9644736842105264\n",
            "std for the cross val is 0.02435287022912144\n"
          ],
          "name": "stdout"
        }
      ]
    },
    {
      "cell_type": "code",
      "metadata": {
        "colab": {
          "base_uri": "https://localhost:8080/"
        },
        "id": "5bosPY8v9-UM",
        "outputId": "60d9c7b4-178f-4936-82b5-23f1c3df5e4b"
      },
      "source": [
        "#do training baesd on multinomialnb\n",
        "clf1.fit(x_train, y_train)"
      ],
      "execution_count": 22,
      "outputs": [
        {
          "output_type": "execute_result",
          "data": {
            "text/plain": [
              "MultinomialNB(alpha=1.0, class_prior=None, fit_prior=True)"
            ]
          },
          "metadata": {
            "tags": []
          },
          "execution_count": 22
        }
      ]
    },
    {
      "cell_type": "code",
      "metadata": {
        "colab": {
          "base_uri": "https://localhost:8080/"
        },
        "id": "e1JhSkJA9-UT",
        "outputId": "68924aff-3162-4d1b-a9fa-76ac4560f9ce"
      },
      "source": [
        "#checking score based on train set\n",
        "from sklearn.metrics import classification_report , accuracy_score , confusion_matrix\n",
        "train_pred = clf1.predict(x_train)\n",
        "\n",
        "print(f\"Classification Repport\\n  {classification_report(y_train , train_pred)}\")\n",
        "\n",
        "print(\"\\n\\n\")\n",
        "print(f\"Confudion Matrix  \\n {confusion_matrix(y_train ,train_pred)}\")\n",
        "\n",
        "print(\"\\n\\n\")\n",
        "print(f\"Accuracy score   {accuracy_score(y_train ,train_pred)}\")"
      ],
      "execution_count": 23,
      "outputs": [
        {
          "output_type": "stream",
          "text": [
            "Classification Repport\n",
            "                precision    recall  f1-score   support\n",
            "\n",
            "    Non-Spam       0.99      1.00      1.00       673\n",
            "        Spam       0.99      0.96      0.97        92\n",
            "\n",
            "    accuracy                           0.99       765\n",
            "   macro avg       0.99      0.98      0.98       765\n",
            "weighted avg       0.99      0.99      0.99       765\n",
            "\n",
            "\n",
            "\n",
            "\n",
            "Confudion Matrix  \n",
            " [[672   1]\n",
            " [  4  88]]\n",
            "\n",
            "\n",
            "\n",
            "Accuracy score   0.9934640522875817\n"
          ],
          "name": "stdout"
        }
      ]
    },
    {
      "cell_type": "code",
      "metadata": {
        "colab": {
          "base_uri": "https://localhost:8080/"
        },
        "id": "E-1Gw1uB9-UY",
        "outputId": "212223db-f2f0-4f62-f9d8-fc0942fe9c1c"
      },
      "source": [
        "#checking score based on set test\n",
        "pred = clf1.predict(x_test)\n",
        "\n",
        "print(f\"Classification Repport\\n  {classification_report(y_test , pred)}\")\n",
        "\n",
        "print(\"\\n\\n\")\n",
        "print(f\"Confudion Matrix  \\n {confusion_matrix(y_test , pred)}\")\n",
        "\n",
        "print(\"\\n\\n\")\n",
        "print(f\"Accuracy score   {accuracy_score(y_test , pred)}\")"
      ],
      "execution_count": 24,
      "outputs": [
        {
          "output_type": "stream",
          "text": [
            "Classification Repport\n",
            "                precision    recall  f1-score   support\n",
            "\n",
            "    Non-Spam       0.98      0.99      0.98       162\n",
            "        Spam       0.93      0.87      0.90        30\n",
            "\n",
            "    accuracy                           0.97       192\n",
            "   macro avg       0.95      0.93      0.94       192\n",
            "weighted avg       0.97      0.97      0.97       192\n",
            "\n",
            "\n",
            "\n",
            "\n",
            "Confudion Matrix  \n",
            " [[160   2]\n",
            " [  4  26]]\n",
            "\n",
            "\n",
            "\n",
            "Accuracy score   0.96875\n"
          ],
          "name": "stdout"
        }
      ]
    },
    {
      "cell_type": "code",
      "metadata": {
        "id": "yEZgJnf_9-Ua"
      },
      "source": [
        "#randomclassifier model\n",
        "from sklearn.ensemble import RandomForestClassifier\n",
        "\n",
        "clf2 = RandomForestClassifier()\n"
      ],
      "execution_count": 25,
      "outputs": []
    },
    {
      "cell_type": "code",
      "metadata": {
        "colab": {
          "base_uri": "https://localhost:8080/"
        },
        "id": "frff6on99-Uc",
        "outputId": "331018a2-03c7-44c5-ca9f-af235d649c7d"
      },
      "source": [
        "#cross validation for random classifeir\n",
        "from sklearn.model_selection import cross_val_score\n",
        "valid = cross_val_score(estimator = clf2 , X =text , y=y , cv=10)\n",
        "print(\"Cross Validation results for 10 folds\")\n",
        "print(valid)\n",
        "print(f\"Mean for cross val is {valid.mean()}\")\n",
        "print(f\"std for the cross val is {valid.std()}\")"
      ],
      "execution_count": 26,
      "outputs": [
        {
          "output_type": "stream",
          "text": [
            "Cross Validation results for 10 folds\n",
            "[0.95833333 0.92708333 0.96875    0.96875    0.92708333 0.92708333\n",
            " 0.92708333 0.93684211 0.93684211 0.93684211]\n",
            "Mean for cross val is 0.9414692982456142\n",
            "std for the cross val is 0.016324600290308793\n"
          ],
          "name": "stdout"
        }
      ]
    },
    {
      "cell_type": "code",
      "metadata": {
        "colab": {
          "base_uri": "https://localhost:8080/"
        },
        "id": "NTpJkCmM9-Ue",
        "outputId": "1cd43275-67e4-4727-89bd-ddb70699e624"
      },
      "source": [
        "clf2.fit(x_train ,y_train)"
      ],
      "execution_count": 27,
      "outputs": [
        {
          "output_type": "execute_result",
          "data": {
            "text/plain": [
              "RandomForestClassifier(bootstrap=True, ccp_alpha=0.0, class_weight=None,\n",
              "                       criterion='gini', max_depth=None, max_features='auto',\n",
              "                       max_leaf_nodes=None, max_samples=None,\n",
              "                       min_impurity_decrease=0.0, min_impurity_split=None,\n",
              "                       min_samples_leaf=1, min_samples_split=2,\n",
              "                       min_weight_fraction_leaf=0.0, n_estimators=100,\n",
              "                       n_jobs=None, oob_score=False, random_state=None,\n",
              "                       verbose=0, warm_start=False)"
            ]
          },
          "metadata": {
            "tags": []
          },
          "execution_count": 27
        }
      ]
    },
    {
      "cell_type": "code",
      "metadata": {
        "colab": {
          "base_uri": "https://localhost:8080/"
        },
        "id": "-kcaz2xd9-Ue",
        "outputId": "a48578db-9b11-48b0-ee09-1e65154827c2"
      },
      "source": [
        "#checking score based on train set\n",
        "from sklearn.metrics import classification_report , accuracy_score , confusion_matrix\n",
        "train_pred2 = clf2.predict(x_train)\n",
        "\n",
        "print(f\"Classification Repport\\n  {classification_report(y_train , train_pred2)}\")\n",
        "\n",
        "print(\"\\n\\n\")\n",
        "print(f\"Confudion Matrix  \\n {confusion_matrix(y_train ,train_pred2)}\")\n",
        "\n",
        "print(\"\\n\\n\")\n",
        "print(f\"Accuracy score   {accuracy_score(y_train ,train_pred2)}\")"
      ],
      "execution_count": 28,
      "outputs": [
        {
          "output_type": "stream",
          "text": [
            "Classification Repport\n",
            "                precision    recall  f1-score   support\n",
            "\n",
            "    Non-Spam       1.00      1.00      1.00       673\n",
            "        Spam       1.00      1.00      1.00        92\n",
            "\n",
            "    accuracy                           1.00       765\n",
            "   macro avg       1.00      1.00      1.00       765\n",
            "weighted avg       1.00      1.00      1.00       765\n",
            "\n",
            "\n",
            "\n",
            "\n",
            "Confudion Matrix  \n",
            " [[673   0]\n",
            " [  0  92]]\n",
            "\n",
            "\n",
            "\n",
            "Accuracy score   1.0\n"
          ],
          "name": "stdout"
        }
      ]
    },
    {
      "cell_type": "code",
      "metadata": {
        "colab": {
          "base_uri": "https://localhost:8080/"
        },
        "id": "mPjCXnM-9-Uh",
        "outputId": "60dde613-9f1f-4052-daeb-680b18423f83"
      },
      "source": [
        "#checking score based on set test\n",
        "pred1 = clf2.predict(x_test)\n",
        "\n",
        "print(f\"Classification Repport\\n  {classification_report(y_test , pred1)}\")\n",
        "\n",
        "print(\"\\n\\n\")\n",
        "print(f\"Confudion Matrix  \\n {confusion_matrix(y_test , pred1)}\")\n",
        "\n",
        "print(\"\\n\\n\")\n",
        "print(f\"Accuracy score   {accuracy_score(y_test , pred1)}\")"
      ],
      "execution_count": 29,
      "outputs": [
        {
          "output_type": "stream",
          "text": [
            "Classification Repport\n",
            "                precision    recall  f1-score   support\n",
            "\n",
            "    Non-Spam       0.91      1.00      0.95       162\n",
            "        Spam       1.00      0.47      0.64        30\n",
            "\n",
            "    accuracy                           0.92       192\n",
            "   macro avg       0.96      0.73      0.79       192\n",
            "weighted avg       0.92      0.92      0.90       192\n",
            "\n",
            "\n",
            "\n",
            "\n",
            "Confudion Matrix  \n",
            " [[162   0]\n",
            " [ 16  14]]\n",
            "\n",
            "\n",
            "\n",
            "Accuracy score   0.9166666666666666\n"
          ],
          "name": "stdout"
        }
      ]
    },
    {
      "cell_type": "code",
      "metadata": {
        "id": "SctNQf2R9-Uj"
      },
      "source": [
        "#lets check for boosting algo\n",
        "from xgboost import XGBClassifier\n",
        "clf3 = XGBClassifier()"
      ],
      "execution_count": 30,
      "outputs": []
    },
    {
      "cell_type": "code",
      "metadata": {
        "colab": {
          "base_uri": "https://localhost:8080/"
        },
        "id": "blgVTrIf9-Uk",
        "outputId": "8c76c285-2fd2-4265-d69f-ba153416698e"
      },
      "source": [
        "#cross validation\n",
        "from sklearn.model_selection import cross_val_score\n",
        "valid = cross_val_score(estimator = clf3 , X =text , y=y , cv=10)\n",
        "print(\"Cross Validation results for 10 folds\")\n",
        "print(valid)\n",
        "print(f\"Mean for cross val is {valid.mean()}\")\n",
        "print(f\"std for the cross val is {valid.std()}\")"
      ],
      "execution_count": 31,
      "outputs": [
        {
          "output_type": "stream",
          "text": [
            "Cross Validation results for 10 folds\n",
            "[0.96875    0.95833333 0.97916667 1.         0.94791667 0.9375\n",
            " 0.89583333 0.96842105 0.92631579 0.95789474]\n",
            "Mean for cross val is 0.9540131578947367\n",
            "std for the cross val is 0.027690917210666563\n"
          ],
          "name": "stdout"
        }
      ]
    },
    {
      "cell_type": "code",
      "metadata": {
        "colab": {
          "base_uri": "https://localhost:8080/"
        },
        "id": "3HY5twDj9-Ul",
        "outputId": "aa0fe583-9e66-46f8-cea3-b193765e9c15"
      },
      "source": [
        "clf3.fit(x_train , y_train)"
      ],
      "execution_count": 32,
      "outputs": [
        {
          "output_type": "execute_result",
          "data": {
            "text/plain": [
              "XGBClassifier(base_score=0.5, booster='gbtree', colsample_bylevel=1,\n",
              "              colsample_bynode=1, colsample_bytree=1, gamma=0,\n",
              "              learning_rate=0.1, max_delta_step=0, max_depth=3,\n",
              "              min_child_weight=1, missing=None, n_estimators=100, n_jobs=1,\n",
              "              nthread=None, objective='binary:logistic', random_state=0,\n",
              "              reg_alpha=0, reg_lambda=1, scale_pos_weight=1, seed=None,\n",
              "              silent=None, subsample=1, verbosity=1)"
            ]
          },
          "metadata": {
            "tags": []
          },
          "execution_count": 32
        }
      ]
    },
    {
      "cell_type": "code",
      "metadata": {
        "colab": {
          "base_uri": "https://localhost:8080/"
        },
        "id": "IAJxkYCa9-Un",
        "outputId": "d99e29af-863e-46a6-f029-815ca278385b"
      },
      "source": [
        "#checking score based on train set\n",
        "from sklearn.metrics import classification_report , accuracy_score , confusion_matrix\n",
        "train_pred3 = clf3.predict(x_train)\n",
        "\n",
        "print(f\"Classification Repport\\n  {classification_report(y_train , train_pred3)}\")\n",
        "\n",
        "print(\"\\n\\n\")\n",
        "print(f\"Confudion Matrix  \\n {confusion_matrix(y_train ,train_pred3)}\")\n",
        "\n",
        "print(\"\\n\\n\")\n",
        "print(f\"Accuracy score   {accuracy_score(y_train ,train_pred3)}\")"
      ],
      "execution_count": 33,
      "outputs": [
        {
          "output_type": "stream",
          "text": [
            "Classification Repport\n",
            "                precision    recall  f1-score   support\n",
            "\n",
            "    Non-Spam       0.98      1.00      0.99       673\n",
            "        Spam       0.99      0.84      0.91        92\n",
            "\n",
            "    accuracy                           0.98       765\n",
            "   macro avg       0.98      0.92      0.95       765\n",
            "weighted avg       0.98      0.98      0.98       765\n",
            "\n",
            "\n",
            "\n",
            "\n",
            "Confudion Matrix  \n",
            " [[672   1]\n",
            " [ 15  77]]\n",
            "\n",
            "\n",
            "\n",
            "Accuracy score   0.9790849673202614\n"
          ],
          "name": "stdout"
        }
      ]
    },
    {
      "cell_type": "code",
      "metadata": {
        "colab": {
          "base_uri": "https://localhost:8080/"
        },
        "id": "_e61dsat9-Un",
        "outputId": "7d7911c5-8e3f-41ac-f0db-a6c687886b50"
      },
      "source": [
        "#checking score based on set test\n",
        "pred3 = clf3.predict(x_test)\n",
        "\n",
        "print(f\"Classification Repport\\n  {classification_report(y_test , pred3)}\")\n",
        "\n",
        "print(\"\\n\\n\")\n",
        "print(f\"Confudion Matrix  \\n {confusion_matrix(y_test , pred3)}\")\n",
        "\n",
        "print(\"\\n\\n\")\n",
        "print(f\"Accuracy score   {accuracy_score(y_test , pred3)}\")"
      ],
      "execution_count": 34,
      "outputs": [
        {
          "output_type": "stream",
          "text": [
            "Classification Repport\n",
            "                precision    recall  f1-score   support\n",
            "\n",
            "    Non-Spam       0.96      0.99      0.98       162\n",
            "        Spam       0.96      0.77      0.85        30\n",
            "\n",
            "    accuracy                           0.96       192\n",
            "   macro avg       0.96      0.88      0.91       192\n",
            "weighted avg       0.96      0.96      0.96       192\n",
            "\n",
            "\n",
            "\n",
            "\n",
            "Confudion Matrix  \n",
            " [[161   1]\n",
            " [  7  23]]\n",
            "\n",
            "\n",
            "\n",
            "Accuracy score   0.9583333333333334\n"
          ],
          "name": "stdout"
        }
      ]
    }
  ]
}