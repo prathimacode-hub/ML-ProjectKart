{
 "cells": [
  {
   "cell_type": "markdown",
   "metadata": {},
   "source": [
    "# Emoji Classification using OpenCV"
   ]
  },
  {
   "cell_type": "markdown",
   "metadata": {},
   "source": [
    "The data consists of 48x48 pixel grayscale images of faces. The faces have been automatically registered so that the face is more or less centred and occupies about the same amount of space in each image.\n",
    "\n",
    "The task is to categorize each face based on the emotion shown in the facial expression into one of seven categories (0=Angry, 1=Disgust, 2=Fear, 3=Happy, 4=Sad, 5=Surprise, 6=Neutral). The training set consists of 28,709 examples and the public test set consists of 3,589 examples."
   ]
  },
  {
   "cell_type": "markdown",
   "metadata": {},
   "source": [
    "To overcome the classfication I have used the OpenCV, along with I have used tensorflow, keras, seaborn, matplotlib and many more basic libraries."
   ]
  },
  {
   "cell_type": "markdown",
   "metadata": {},
   "source": [
    "### Importing the Libraries"
   ]
  },
  {
   "cell_type": "code",
   "execution_count": 10,
   "metadata": {
    "_cell_guid": "b1076dfc-b9ad-4769-8c92-a6c4dae69d19",
    "_uuid": "8f2839f25d086af736a60e9eeb907d3b93b6e0e5"
   },
   "outputs": [],
   "source": [
    "import numpy as np # linear algebra\n",
    "import pandas as pd # data processing, CSV file I/O (e.g. pd.read_csv)\n",
    "import os\n",
    "import matplotlib.pyplot as plt\n",
    "import seaborn as sns\n",
    "import tensorflow as tf\n",
    "import keras\n",
    "from keras.preprocessing import image\n",
    "from keras.models import Sequential\n",
    "from keras.layers import Conv2D, MaxPool2D, Flatten,Dense,Dropout,BatchNormalization\n",
    "from tensorflow.keras.preprocessing.image import ImageDataGenerator\n",
    "import cv2\n",
    "from tensorflow.keras.applications import VGG16, InceptionResNetV2\n",
    "from keras import regularizers\n",
    "from tensorflow.keras.optimizers import Adam,RMSprop,SGD,Adamax"
   ]
  },
  {
   "cell_type": "markdown",
   "metadata": {},
   "source": [
    "### Collecting the files from the Kaggle source"
   ]
  },
  {
   "cell_type": "code",
   "execution_count": 11,
   "metadata": {},
   "outputs": [],
   "source": [
    "train_dir = \"../input/emotion-detection-fer/train\" #passing the path with training images\n",
    "test_dir = \"../input/emotion-detection-fer/test\"   #passing the path with testing images"
   ]
  },
  {
   "cell_type": "code",
   "execution_count": 12,
   "metadata": {},
   "outputs": [],
   "source": [
    "img_size = 48 #original size of the image"
   ]
  },
  {
   "cell_type": "code",
   "execution_count": 13,
   "metadata": {},
   "outputs": [],
   "source": [
    "\"\"\"\n",
    "Data Augmentation\n",
    "--------------------------\n",
    "rotation_range = rotates the image with the amount of degrees we provide\n",
    "width_shift_range = shifts the image randomly to the right or left along the width of the image\n",
    "height_shift range = shifts image randomly to up or below along the height of the image\n",
    "horizontal_flip = flips the image horizontally\n",
    "rescale = to scale down the pizel values in our image between 0 and 1\n",
    "zoom_range = applies random zoom to our object\n",
    "validation_split = reserves some images to be used for validation purpose\n",
    "\"\"\"\n",
    "\n",
    "train_datagen = ImageDataGenerator(#rotation_range = 180,\n",
    "                                         width_shift_range = 0.1,\n",
    "                                         height_shift_range = 0.1,\n",
    "                                         horizontal_flip = True,\n",
    "                                         rescale = 1./255,\n",
    "                                         #zoom_range = 0.2,\n",
    "                                         validation_split = 0.2\n",
    "                                        )\n",
    "validation_datagen = ImageDataGenerator(rescale = 1./255,\n",
    "                                         validation_split = 0.2)"
   ]
  },
  {
   "cell_type": "code",
   "execution_count": 14,
   "metadata": {},
   "outputs": [
    {
     "name": "stdout",
     "output_type": "stream",
     "text": [
      "Found 22968 images belonging to 7 classes.\n",
      "Found 1432 images belonging to 7 classes.\n"
     ]
    }
   ],
   "source": [
    "\"\"\"\n",
    "Applying data augmentation to the images as we read \n",
    "them from their respectivve directories\n",
    "\"\"\"\n",
    "train_generator = train_datagen.flow_from_directory(directory = train_dir,\n",
    "                                                    target_size = (img_size,img_size),\n",
    "                                                    batch_size = 64,\n",
    "                                                    color_mode = \"grayscale\",\n",
    "                                                    class_mode = \"categorical\",\n",
    "                                                    subset = \"training\"\n",
    "                                                   )\n",
    "validation_generator = validation_datagen.flow_from_directory( directory = test_dir,\n",
    "                                                              target_size = (img_size,img_size),\n",
    "                                                              batch_size = 64,\n",
    "                                                              color_mode = \"grayscale\",\n",
    "                                                              class_mode = \"categorical\",\n",
    "                                                              subset = \"validation\"\n",
    "                                                             )"
   ]
  },
  {
   "cell_type": "markdown",
   "metadata": {},
   "source": [
    "### Modelling the dataset"
   ]
  },
  {
   "cell_type": "code",
   "execution_count": null,
   "metadata": {},
   "outputs": [],
   "source": [
    "\"\"\"\n",
    "Modeling\n",
    "\n",
    "\n",
    "model = Sequential()\n",
    "model.add(Conv2D(filters = 64,kernel_size = (3,3),padding = 'same',activation = 'relu',input_shape=(img_size,img_size,1)))\n",
    "model.add(MaxPool2D(pool_size = 2,strides = 2))\n",
    "model.add(BatchNormalization())\n",
    "\n",
    "model.add(Conv2D(filters = 128,kernel_size = (3,3),padding = 'same',activation = 'relu'))\n",
    "model.add(MaxPool2D(pool_size = 2,strides = 2))\n",
    "model.add(BatchNormalization())\n",
    "model.add(Dropout(0.25))\n",
    "\n",
    "model.add(Conv2D(filters = 128,kernel_size = (3,3),padding = 'same',activation = 'relu'))\n",
    "model.add(MaxPool2D(pool_size = 2,strides = 2))\n",
    "model.add(BatchNormalization())\n",
    "model.add(Dropout(0.25))\n",
    "\n",
    "model.add(Conv2D(filters = 256,kernel_size = (3,3),padding = 'same',activation = 'relu'))\n",
    "model.add(MaxPool2D(pool_size = 2,strides = 2))\n",
    "model.add(BatchNormalization())\n",
    "\n",
    "model.add(Flatten())\n",
    "model.add(Dense(units = 128,activation = 'relu',kernel_initializer='he_normal'))\n",
    "model.add(Dropout(0.25))\n",
    "model.add(Dense(units = 64,activation = 'relu',kernel_initializer='he_normal'))\n",
    "model.add(BatchNormalization())\n",
    "model.add(Dropout(0.25))\n",
    "model.add(Dense(units = 32,activation = 'relu',kernel_initializer='he_normal'))\n",
    "model.add(Dense(7,activation = 'softmax'))\n",
    "\n",
    "\"\"\""
   ]
  },
  {
   "cell_type": "code",
   "execution_count": 15,
   "metadata": {},
   "outputs": [],
   "source": [
    "model= tf.keras.models.Sequential()\n",
    "model.add(Conv2D(32, kernel_size=(3, 3), padding='same', activation='relu', input_shape=(48, 48,1)))\n",
    "model.add(Conv2D(64,(3,3), padding='same', activation='relu' ))\n",
    "model.add(BatchNormalization())\n",
    "model.add(MaxPool2D(pool_size=(2, 2)))\n",
    "model.add(Dropout(0.25))\n",
    "\n",
    "model.add(Conv2D(128,(5,5), padding='same', activation='relu'))\n",
    "model.add(BatchNormalization())\n",
    "model.add(MaxPool2D(pool_size=(2, 2)))\n",
    "model.add(Dropout(0.25))\n",
    "    \n",
    "model.add(Conv2D(512,(3,3), padding='same', activation='relu', kernel_regularizer=regularizers.l2(0.01)))\n",
    "model.add(BatchNormalization())\n",
    "model.add(MaxPool2D(pool_size=(2, 2)))\n",
    "model.add(Dropout(0.25))\n",
    "\n",
    "model.add(Conv2D(512,(3,3), padding='same', activation='relu', kernel_regularizer=regularizers.l2(0.01)))\n",
    "model.add(BatchNormalization())\n",
    "model.add(MaxPool2D(pool_size=(2, 2)))\n",
    "model.add(Dropout(0.25))\n",
    "\n",
    "model.add(Flatten()) \n",
    "model.add(Dense(256,activation = 'relu'))\n",
    "model.add(BatchNormalization())\n",
    "model.add(Dropout(0.25))\n",
    "    \n",
    "model.add(Dense(512,activation = 'relu'))\n",
    "model.add(BatchNormalization())\n",
    "model.add(Dropout(0.25))\n",
    "\n",
    "model.add(Dense(7, activation='softmax'))\n",
    "\n",
    "model.compile(\n",
    "    optimizer = Adam(lr=0.0001), \n",
    "    loss='categorical_crossentropy', \n",
    "    metrics=['accuracy']\n",
    "  )"
   ]
  },
  {
   "cell_type": "code",
   "execution_count": 16,
   "metadata": {},
   "outputs": [],
   "source": [
    "epochs = 60\n",
    "batch_size = 64"
   ]
  },
  {
   "cell_type": "markdown",
   "metadata": {},
   "source": [
    "### Summary of the model"
   ]
  },
  {
   "cell_type": "code",
   "execution_count": 17,
   "metadata": {},
   "outputs": [
    {
     "name": "stdout",
     "output_type": "stream",
     "text": [
      "Model: \"sequential_1\"\n",
      "_________________________________________________________________\n",
      "Layer (type)                 Output Shape              Param #   \n",
      "=================================================================\n",
      "conv2d_5 (Conv2D)            (None, 48, 48, 32)        320       \n",
      "_________________________________________________________________\n",
      "conv2d_6 (Conv2D)            (None, 48, 48, 64)        18496     \n",
      "_________________________________________________________________\n",
      "batch_normalization_6 (Batch (None, 48, 48, 64)        256       \n",
      "_________________________________________________________________\n",
      "max_pooling2d_4 (MaxPooling2 (None, 24, 24, 64)        0         \n",
      "_________________________________________________________________\n",
      "dropout_6 (Dropout)          (None, 24, 24, 64)        0         \n",
      "_________________________________________________________________\n",
      "conv2d_7 (Conv2D)            (None, 24, 24, 128)       204928    \n",
      "_________________________________________________________________\n",
      "batch_normalization_7 (Batch (None, 24, 24, 128)       512       \n",
      "_________________________________________________________________\n",
      "max_pooling2d_5 (MaxPooling2 (None, 12, 12, 128)       0         \n",
      "_________________________________________________________________\n",
      "dropout_7 (Dropout)          (None, 12, 12, 128)       0         \n",
      "_________________________________________________________________\n",
      "conv2d_8 (Conv2D)            (None, 12, 12, 512)       590336    \n",
      "_________________________________________________________________\n",
      "batch_normalization_8 (Batch (None, 12, 12, 512)       2048      \n",
      "_________________________________________________________________\n",
      "max_pooling2d_6 (MaxPooling2 (None, 6, 6, 512)         0         \n",
      "_________________________________________________________________\n",
      "dropout_8 (Dropout)          (None, 6, 6, 512)         0         \n",
      "_________________________________________________________________\n",
      "conv2d_9 (Conv2D)            (None, 6, 6, 512)         2359808   \n",
      "_________________________________________________________________\n",
      "batch_normalization_9 (Batch (None, 6, 6, 512)         2048      \n",
      "_________________________________________________________________\n",
      "max_pooling2d_7 (MaxPooling2 (None, 3, 3, 512)         0         \n",
      "_________________________________________________________________\n",
      "dropout_9 (Dropout)          (None, 3, 3, 512)         0         \n",
      "_________________________________________________________________\n",
      "flatten_1 (Flatten)          (None, 4608)              0         \n",
      "_________________________________________________________________\n",
      "dense_3 (Dense)              (None, 256)               1179904   \n",
      "_________________________________________________________________\n",
      "batch_normalization_10 (Batc (None, 256)               1024      \n",
      "_________________________________________________________________\n",
      "dropout_10 (Dropout)         (None, 256)               0         \n",
      "_________________________________________________________________\n",
      "dense_4 (Dense)              (None, 512)               131584    \n",
      "_________________________________________________________________\n",
      "batch_normalization_11 (Batc (None, 512)               2048      \n",
      "_________________________________________________________________\n",
      "dropout_11 (Dropout)         (None, 512)               0         \n",
      "_________________________________________________________________\n",
      "dense_5 (Dense)              (None, 7)                 3591      \n",
      "=================================================================\n",
      "Total params: 4,496,903\n",
      "Trainable params: 4,492,935\n",
      "Non-trainable params: 3,968\n",
      "_________________________________________________________________\n"
     ]
    }
   ],
   "source": [
    "model.summary()"
   ]
  },
  {
   "cell_type": "markdown",
   "metadata": {},
   "source": [
    "### Fitting the model using Tensorflow and Keras"
   ]
  },
  {
   "cell_type": "code",
   "execution_count": 18,
   "metadata": {},
   "outputs": [
    {
     "name": "stdout",
     "output_type": "stream",
     "text": [
      "Epoch 1/60\n",
      "359/359 [==============================] - 32s 85ms/step - loss: 9.5825 - accuracy: 0.1830 - val_loss: 8.5500 - val_accuracy: 0.1837\n",
      "Epoch 2/60\n",
      "359/359 [==============================] - 29s 82ms/step - loss: 8.4596 - accuracy: 0.2192 - val_loss: 7.4372 - val_accuracy: 0.2737\n",
      "Epoch 3/60\n",
      "359/359 [==============================] - 31s 85ms/step - loss: 7.4090 - accuracy: 0.2473 - val_loss: 6.4054 - val_accuracy: 0.3247\n",
      "Epoch 4/60\n",
      "359/359 [==============================] - 30s 85ms/step - loss: 6.3886 - accuracy: 0.2685 - val_loss: 5.4900 - val_accuracy: 0.3338\n",
      "Epoch 5/60\n",
      "359/359 [==============================] - 31s 87ms/step - loss: 5.4488 - accuracy: 0.3026 - val_loss: 4.6423 - val_accuracy: 0.3841\n",
      "Epoch 6/60\n",
      "359/359 [==============================] - 30s 83ms/step - loss: 4.6653 - accuracy: 0.3242 - val_loss: 4.1579 - val_accuracy: 0.3331\n",
      "Epoch 7/60\n",
      "359/359 [==============================] - 30s 83ms/step - loss: 4.0084 - accuracy: 0.3572 - val_loss: 3.3683 - val_accuracy: 0.4483\n",
      "Epoch 8/60\n",
      "359/359 [==============================] - 30s 83ms/step - loss: 3.4901 - accuracy: 0.3693 - val_loss: 3.1375 - val_accuracy: 0.3987\n",
      "Epoch 9/60\n",
      "359/359 [==============================] - 30s 83ms/step - loss: 3.0384 - accuracy: 0.4082 - val_loss: 2.7221 - val_accuracy: 0.4469\n",
      "Epoch 10/60\n",
      "359/359 [==============================] - 30s 82ms/step - loss: 2.7142 - accuracy: 0.4274 - val_loss: 2.6387 - val_accuracy: 0.3980\n",
      "Epoch 11/60\n",
      "359/359 [==============================] - 30s 83ms/step - loss: 2.4518 - accuracy: 0.4474 - val_loss: 2.3890 - val_accuracy: 0.4588\n",
      "Epoch 12/60\n",
      "359/359 [==============================] - 30s 83ms/step - loss: 2.2541 - accuracy: 0.4670 - val_loss: 1.9617 - val_accuracy: 0.5391\n",
      "Epoch 13/60\n",
      "359/359 [==============================] - 31s 85ms/step - loss: 2.0837 - accuracy: 0.4832 - val_loss: 1.8577 - val_accuracy: 0.5426\n",
      "Epoch 14/60\n",
      "359/359 [==============================] - 30s 82ms/step - loss: 1.9692 - accuracy: 0.4963 - val_loss: 1.8279 - val_accuracy: 0.5454\n",
      "Epoch 15/60\n",
      "359/359 [==============================] - 30s 84ms/step - loss: 1.8759 - accuracy: 0.5068 - val_loss: 1.7217 - val_accuracy: 0.5510\n",
      "Epoch 16/60\n",
      "359/359 [==============================] - 30s 83ms/step - loss: 1.7744 - accuracy: 0.5247 - val_loss: 1.7536 - val_accuracy: 0.5279\n",
      "Epoch 17/60\n",
      "359/359 [==============================] - 30s 84ms/step - loss: 1.7000 - accuracy: 0.5360 - val_loss: 1.6131 - val_accuracy: 0.5559\n",
      "Epoch 18/60\n",
      "359/359 [==============================] - 29s 81ms/step - loss: 1.6566 - accuracy: 0.5406 - val_loss: 1.6422 - val_accuracy: 0.5559\n",
      "Epoch 19/60\n",
      "359/359 [==============================] - 30s 83ms/step - loss: 1.6268 - accuracy: 0.5540 - val_loss: 1.5886 - val_accuracy: 0.5545\n",
      "Epoch 20/60\n",
      "359/359 [==============================] - 30s 84ms/step - loss: 1.5752 - accuracy: 0.5544 - val_loss: 1.5495 - val_accuracy: 0.5740\n",
      "Epoch 21/60\n",
      "359/359 [==============================] - 30s 83ms/step - loss: 1.5539 - accuracy: 0.5628 - val_loss: 1.5101 - val_accuracy: 0.5901\n",
      "Epoch 22/60\n",
      "359/359 [==============================] - 29s 82ms/step - loss: 1.5233 - accuracy: 0.5799 - val_loss: 1.5585 - val_accuracy: 0.5754\n",
      "Epoch 23/60\n",
      "359/359 [==============================] - 31s 85ms/step - loss: 1.5196 - accuracy: 0.5761 - val_loss: 1.5262 - val_accuracy: 0.5894\n",
      "Epoch 24/60\n",
      "359/359 [==============================] - 29s 82ms/step - loss: 1.4920 - accuracy: 0.5872 - val_loss: 1.5799 - val_accuracy: 0.5747\n",
      "Epoch 25/60\n",
      "359/359 [==============================] - 30s 83ms/step - loss: 1.4900 - accuracy: 0.5809 - val_loss: 1.4363 - val_accuracy: 0.5992\n",
      "Epoch 26/60\n",
      "359/359 [==============================] - 30s 83ms/step - loss: 1.4782 - accuracy: 0.5865 - val_loss: 1.4742 - val_accuracy: 0.6061\n",
      "Epoch 27/60\n",
      "359/359 [==============================] - 30s 84ms/step - loss: 1.4543 - accuracy: 0.5982 - val_loss: 1.4722 - val_accuracy: 0.5922\n",
      "Epoch 28/60\n",
      "359/359 [==============================] - 30s 83ms/step - loss: 1.4405 - accuracy: 0.6044 - val_loss: 1.4601 - val_accuracy: 0.5901\n",
      "Epoch 29/60\n",
      "359/359 [==============================] - 30s 84ms/step - loss: 1.4354 - accuracy: 0.6032 - val_loss: 1.4238 - val_accuracy: 0.6124\n",
      "Epoch 30/60\n",
      "359/359 [==============================] - 29s 81ms/step - loss: 1.4159 - accuracy: 0.6134 - val_loss: 1.4120 - val_accuracy: 0.6159\n",
      "Epoch 31/60\n",
      "359/359 [==============================] - 29s 81ms/step - loss: 1.4078 - accuracy: 0.6133 - val_loss: 1.4292 - val_accuracy: 0.6124\n",
      "Epoch 32/60\n",
      "359/359 [==============================] - 30s 83ms/step - loss: 1.3834 - accuracy: 0.6208 - val_loss: 1.4394 - val_accuracy: 0.6166\n",
      "Epoch 33/60\n",
      "359/359 [==============================] - 30s 83ms/step - loss: 1.3949 - accuracy: 0.6173 - val_loss: 1.4210 - val_accuracy: 0.6124\n",
      "Epoch 34/60\n",
      "359/359 [==============================] - 31s 85ms/step - loss: 1.3806 - accuracy: 0.6269 - val_loss: 1.3948 - val_accuracy: 0.6257\n",
      "Epoch 35/60\n",
      "359/359 [==============================] - 30s 83ms/step - loss: 1.3751 - accuracy: 0.6265 - val_loss: 1.4108 - val_accuracy: 0.6180\n",
      "Epoch 36/60\n",
      "359/359 [==============================] - 30s 83ms/step - loss: 1.3715 - accuracy: 0.6236 - val_loss: 1.4163 - val_accuracy: 0.6229\n",
      "Epoch 37/60\n",
      "359/359 [==============================] - 30s 84ms/step - loss: 1.3723 - accuracy: 0.6337 - val_loss: 1.3951 - val_accuracy: 0.6313\n",
      "Epoch 38/60\n",
      "359/359 [==============================] - 29s 81ms/step - loss: 1.3687 - accuracy: 0.6322 - val_loss: 1.4402 - val_accuracy: 0.6145\n",
      "Epoch 39/60\n",
      "359/359 [==============================] - 30s 84ms/step - loss: 1.3672 - accuracy: 0.6329 - val_loss: 1.4539 - val_accuracy: 0.6041\n",
      "Epoch 40/60\n",
      "359/359 [==============================] - 30s 84ms/step - loss: 1.3406 - accuracy: 0.6462 - val_loss: 1.4181 - val_accuracy: 0.6292\n",
      "Epoch 41/60\n",
      "359/359 [==============================] - 30s 83ms/step - loss: 1.3576 - accuracy: 0.6401 - val_loss: 1.3745 - val_accuracy: 0.6271\n",
      "Epoch 42/60\n",
      "359/359 [==============================] - 29s 82ms/step - loss: 1.3564 - accuracy: 0.6424 - val_loss: 1.3859 - val_accuracy: 0.6341\n",
      "Epoch 43/60\n",
      "359/359 [==============================] - 30s 83ms/step - loss: 1.3415 - accuracy: 0.6520 - val_loss: 1.4151 - val_accuracy: 0.6299\n",
      "Epoch 44/60\n",
      "359/359 [==============================] - 30s 84ms/step - loss: 1.3531 - accuracy: 0.6412 - val_loss: 1.4722 - val_accuracy: 0.6061\n",
      "Epoch 45/60\n",
      "359/359 [==============================] - 29s 82ms/step - loss: 1.3503 - accuracy: 0.6473 - val_loss: 1.4101 - val_accuracy: 0.6376\n",
      "Epoch 46/60\n",
      "359/359 [==============================] - 29s 82ms/step - loss: 1.3211 - accuracy: 0.6584 - val_loss: 1.4022 - val_accuracy: 0.6292\n",
      "Epoch 47/60\n",
      "359/359 [==============================] - 29s 82ms/step - loss: 1.3410 - accuracy: 0.6506 - val_loss: 1.3650 - val_accuracy: 0.6550\n",
      "Epoch 48/60\n",
      "359/359 [==============================] - 30s 83ms/step - loss: 1.3334 - accuracy: 0.6546 - val_loss: 1.3862 - val_accuracy: 0.6411\n",
      "Epoch 49/60\n",
      "359/359 [==============================] - 30s 82ms/step - loss: 1.3144 - accuracy: 0.6615 - val_loss: 1.4054 - val_accuracy: 0.6473\n",
      "Epoch 50/60\n",
      "359/359 [==============================] - 29s 82ms/step - loss: 1.3198 - accuracy: 0.6632 - val_loss: 1.4119 - val_accuracy: 0.6313\n",
      "Epoch 51/60\n",
      "359/359 [==============================] - 29s 81ms/step - loss: 1.3213 - accuracy: 0.6603 - val_loss: 1.3953 - val_accuracy: 0.6480\n",
      "Epoch 52/60\n",
      "359/359 [==============================] - 29s 81ms/step - loss: 1.3234 - accuracy: 0.6598 - val_loss: 1.4162 - val_accuracy: 0.6418\n",
      "Epoch 53/60\n",
      "359/359 [==============================] - 30s 83ms/step - loss: 1.3437 - accuracy: 0.6578 - val_loss: 1.4207 - val_accuracy: 0.6466\n",
      "Epoch 54/60\n",
      "359/359 [==============================] - 29s 82ms/step - loss: 1.3220 - accuracy: 0.6666 - val_loss: 1.4080 - val_accuracy: 0.6362\n",
      "Epoch 55/60\n",
      "359/359 [==============================] - 30s 84ms/step - loss: 1.3148 - accuracy: 0.6620 - val_loss: 1.3686 - val_accuracy: 0.6564\n",
      "Epoch 56/60\n",
      "359/359 [==============================] - 30s 83ms/step - loss: 1.3171 - accuracy: 0.6661 - val_loss: 1.4582 - val_accuracy: 0.6362\n",
      "Epoch 57/60\n",
      "359/359 [==============================] - 29s 82ms/step - loss: 1.3231 - accuracy: 0.6664 - val_loss: 1.3850 - val_accuracy: 0.6571\n",
      "Epoch 58/60\n",
      "359/359 [==============================] - 30s 82ms/step - loss: 1.3126 - accuracy: 0.6677 - val_loss: 1.4074 - val_accuracy: 0.6446\n",
      "Epoch 59/60\n",
      "359/359 [==============================] - 29s 82ms/step - loss: 1.3206 - accuracy: 0.6664 - val_loss: 1.3899 - val_accuracy: 0.6578\n",
      "Epoch 60/60\n",
      "359/359 [==============================] - 30s 82ms/step - loss: 1.3137 - accuracy: 0.6702 - val_loss: 1.4016 - val_accuracy: 0.6522\n"
     ]
    }
   ],
   "source": [
    "history = model.fit(x = train_generator,epochs = epochs,validation_data = validation_generator)"
   ]
  },
  {
   "cell_type": "markdown",
   "metadata": {},
   "source": [
    "### Checking the accuracy of the model"
   ]
  },
  {
   "cell_type": "code",
   "execution_count": 19,
   "metadata": {},
   "outputs": [
    {
     "data": {
      "image/png": "[encoded data removed]",
      "text/plain": [
       "<Figure size 864x288 with 2 Axes>"
      ]
     },
     "metadata": {
      "needs_background": "light"
     },
     "output_type": "display_data"
    }
   ],
   "source": [
    "fig , ax = plt.subplots(1,2)\n",
    "train_acc = history.history['accuracy']\n",
    "train_loss = history.history['loss']\n",
    "fig.set_size_inches(12,4)\n",
    "\n",
    "ax[0].plot(history.history['accuracy'])\n",
    "ax[0].plot(history.history['val_accuracy'])\n",
    "ax[0].set_title('Training Accuracy vs Validation Accuracy')\n",
    "ax[0].set_ylabel('Accuracy')\n",
    "ax[0].set_xlabel('Epoch')\n",
    "ax[0].legend(['Train', 'Validation'], loc='upper left')\n",
    "\n",
    "ax[1].plot(history.history['loss'])\n",
    "ax[1].plot(history.history['val_loss'])\n",
    "ax[1].set_title('Training Loss vs Validation Loss')\n",
    "ax[1].set_ylabel('Loss')\n",
    "ax[1].set_xlabel('Epoch')\n",
    "ax[1].legend(['Train', 'Validation'], loc='upper left')\n",
    "\n",
    "plt.show()"
   ]
  },
  {
   "cell_type": "code",
   "execution_count": 37,
   "metadata": {},
   "outputs": [],
   "source": [
    "model.save('model_optimal.h5')"
   ]
  },
  {
   "cell_type": "code",
   "execution_count": 33,
   "metadata": {},
   "outputs": [
    {
     "name": "stdout",
     "output_type": "stream",
     "text": [
      "(48, 48)\n"
     ]
    },
    {
     "data": {
      "image/png": "[encoded data removed]",
      "text/plain": [
       "<Figure size 432x288 with 1 Axes>"
      ]
     },
     "metadata": {
      "needs_background": "light"
     },
     "output_type": "display_data"
    }
   ],
   "source": [
    "img = image.load_img(\"../input/emotion-detection-fer/test/happy/im1021.png\",target_size = (48,48),color_mode = \"grayscale\")\n",
    "img = np.array(img)\n",
    "plt.imshow(img)\n",
    "print(img.shape) #prints (48,48) that is the shape of our image"
   ]
  },
  {
   "cell_type": "code",
   "execution_count": 34,
   "metadata": {},
   "outputs": [],
   "source": [
    "label_dict = {0:'Angry',1:'Disgust',2:'Fear',3:'Happy',4:'Neutral',5:'Sad',6:'Surprise'}"
   ]
  },
  {
   "cell_type": "code",
   "execution_count": 35,
   "metadata": {},
   "outputs": [
    {
     "name": "stdout",
     "output_type": "stream",
     "text": [
      "[3.9386793e-23, 0.0, 3.136921e-15, 0.9999962, 0.0, 0.0, 3.8061755e-06]\n"
     ]
    }
   ],
   "source": [
    "img = np.expand_dims(img,axis = 0) #makes image shape (1,48,48)\n",
    "img = img.reshape(1,48,48,1)\n",
    "result = model.predict(img)\n",
    "result = list(result[0])\n",
    "print(result)"
   ]
  },
  {
   "cell_type": "markdown",
   "metadata": {},
   "source": [
    "### Predicting the Emoji using the images"
   ]
  },
  {
   "cell_type": "code",
   "execution_count": 36,
   "metadata": {},
   "outputs": [
    {
     "name": "stdout",
     "output_type": "stream",
     "text": [
      "Happy\n"
     ]
    }
   ],
   "source": [
    "img_index = result.index(max(result))\n",
    "print(label_dict[img_index])\n",
    "plt.show()"
   ]
  },
  {
   "cell_type": "code",
   "execution_count": 38,
   "metadata": {
    "scrolled": true
   },
   "outputs": [
    {
     "name": "stdout",
     "output_type": "stream",
     "text": [
      "359/359 [==============================] - 26s 72ms/step - loss: 1.1980 - accuracy: 0.7173\n",
      "23/23 [==============================] - 1s 44ms/step - loss: 1.4016 - accuracy: 0.6522\n",
      "final train accuracy = 71.73 , validation accuracy = 65.22\n"
     ]
    }
   ],
   "source": [
    "train_loss, train_acc = model.evaluate(train_generator)\n",
    "test_loss, test_acc   = model.evaluate(validation_generator)\n",
    "print(\"final train accuracy = {:.2f} , validation accuracy = {:.2f}\".format(train_acc*100, test_acc*100))"
   ]
  },
  {
   "cell_type": "markdown",
   "metadata": {},
   "source": [
    "### Score\n",
    "\n",
    "Checking the accuracy of the model : 71.73\n",
    "\n",
    "Validation accuracy score : 65.22"
   ]
  },
  {
   "cell_type": "markdown",
   "metadata": {},
   "source": [
    "### The Model is deployed SUCCESSFULLY!\n",
    "\n",
    "### Thank You!"
   ]
  }
 ],
 "metadata": {
  "kernelspec": {
   "display_name": "Python 3",
   "language": "python",
   "name": "python3"
  },
  "language_info": {
   "codemirror_mode": {
    "name": "ipython",
    "version": 3
   },
   "file_extension": ".py",
   "mimetype": "text/x-python",
   "name": "python",
   "nbconvert_exporter": "python",
   "pygments_lexer": "ipython3",
   "version": "3.7.6"
  }
 },
 "nbformat": 4,
 "nbformat_minor": 4
}
