{
 "cells": [
  {
   "cell_type": "code",
   "execution_count": 1,
   "id": "incorporated-participant",
   "metadata": {},
   "outputs": [],
   "source": [
    "from bs4 import BeautifulSoup\n",
    "import json\n",
    "import pandas as pd\n",
    "import requests\n",
    "from pprint import pprint"
   ]
  },
  {
   "cell_type": "code",
   "execution_count": 2,
   "id": "lucky-shock",
   "metadata": {},
   "outputs": [],
   "source": [
    "r = requests.get('https://covid19.mathdro.id/api/countries/India/confirmed')\n",
    "# pprint(r.json())"
   ]
  },
  {
   "cell_type": "code",
   "execution_count": 20,
   "id": "superior-construction",
   "metadata": {},
   "outputs": [],
   "source": [
    "r = requests.get('https://covid19.mathdro.id/api/countries/India/confirmed')\n",
    "arr = list(r.json())\n",
    "datetosend = arr[0]['lastUpdate']\n",
    "stateslist = []\n",
    "confirmed_map =  {}\n",
    "deaths_map = {}\n",
    "active_map = {}\n",
    "recovered_map = {}\n",
    "for i in range(len(arr)):\n",
    "    stateslist.append(arr[i]['provinceState'])\n",
    "    confirmed_map[arr[i]['provinceState']] = arr[i]['confirmed']\n",
    "    deaths_map[arr[i]['provinceState']] = arr[i]['deaths']\n",
    "    active_map[arr[i]['provinceState']] = arr[i]['active']\n",
    "    recovered_map[arr[i]['provinceState']] = arr[i]['recovered']"
   ]
  },
  {
   "cell_type": "code",
   "execution_count": 21,
   "id": "gorgeous-store",
   "metadata": {},
   "outputs": [],
   "source": [
    "active = list(active_map.values())\n",
    "confirmed = list(confirmed_map.values())\n",
    "deaths = list(deaths_map.values())\n",
    "recovered = list(recovered_map.values())\n",
    "\n",
    "# recoveryrate = recovered/confirmed*100\n",
    "\n",
    "recoveryrate = [round(((i/j)*100),2) for i,j in zip(recovered,confirmed)]\n",
    "\n",
    "alltogether = []\n",
    "for state,i,j,k,l,m in zip(stateslist,active,confirmed,deaths,recovered,recoveryrate):\n",
    "    alltogether.append([state,i,j,k,l,m])\n"
   ]
  },
  {
   "cell_type": "code",
   "execution_count": 22,
   "id": "sexual-mauritius",
   "metadata": {
    "collapsed": true
   },
   "outputs": [
    {
     "data": {
      "text/plain": [
       "[['Maharashtra', 163586, 5876087, 103748, 5608753, 95.45],\n",
       " ['Karnataka', 210673, 2739290, 32485, 2496132, 91.12],\n",
       " ['Kerala', 135717, 2688590, 10631, 2542242, 94.56],\n",
       " ['Tamil Nadu', 188664, 2308838, 28528, 2091646, 90.59],\n",
       " ['Andhra Pradesh', 99057, 1787883, 11763, 1677063, 93.8],\n",
       " ['Uttar Pradesh', 12243, 1701072, 21597, 1667232, 98.01],\n",
       " ['West Bengal', 14719, 1448104, 16642, 1416743, 97.83],\n",
       " ['Delhi', 4212, 1430433, 24748, 1401473, 97.98],\n",
       " ['Chhattisgarh', 17275, 984950, 13285, 954390, 96.9],\n",
       " ['Rajasthan', 10079, 948562, 8772, 929711, 98.01],\n",
       " ['Odisha', 61087, 837226, 3167, 772972, 92.33],\n",
       " ['Gujarat', 12711, 818895, 9976, 796208, 97.23],\n",
       " ['Madhya Pradesh', 6325, 787175, 8475, 772375, 98.12],\n",
       " ['Haryana', 6365, 764633, 8861, 749407, 98.01],\n",
       " ['Bihar', 5044, 715730, 9452, 701234, 97.97],\n",
       " ['Telangana', 23561, 598611, 3440, 571610, 95.49],\n",
       " ['Punjab', 16244, 584785, 15367, 553174, 94.59],\n",
       " ['Assam', 48428, 450201, 3844, 397929, 88.39],\n",
       " ['Jharkhand', 4514, 342774, 5081, 333179, 97.2],\n",
       " ['Uttarakhand', 6641, 335866, 6878, 322347, 95.97],\n",
       " ['Jammu and Kashmir', 18581, 304866, 4143, 282142, 92.55],\n",
       " ['Himachal Pradesh', 6338, 197438, 3358, 187742, 95.09],\n",
       " ['Goa', 5605, 161153, 2891, 152657, 94.73],\n",
       " ['Puducherry', 6705, 111255, 1657, 102893, 92.48],\n",
       " ['Chandigarh', 581, 60928, 783, 59564, 97.76],\n",
       " ['Tripura', 5844, 58093, 596, 51653, 88.91],\n",
       " ['Manipur', 9359, 58081, 925, 47797, 82.29],\n",
       " ['Meghalaya', 5015, 40586, 704, 34867, 85.91],\n",
       " ['Arunachal Pradesh', 3209, 30492, 133, 27150, 89.04],\n",
       " ['Nagaland', 3877, 23350, 441, 19032, 81.51],\n",
       " ['Ladakh', 853, 19475, 197, 18425, 94.61],\n",
       " ['Sikkim', 4040, 17943, 279, 13624, 75.93],\n",
       " ['Mizoram', 3578, 14743, 61, 11104, 75.32],\n",
       " ['Dadra and Nagar Haveli and Daman and Diu', 121, 10445, 4, 10320, 98.8],\n",
       " ['Lakshadweep', 721, 9073, 42, 8310, 91.59],\n",
       " ['Andaman and Nicobar Islands', 99, 7197, 125, 6973, 96.89]]"
      ]
     },
     "execution_count": 22,
     "metadata": {},
     "output_type": "execute_result"
    }
   ],
   "source": [
    "alltogether"
   ]
  },
  {
   "cell_type": "markdown",
   "id": "threatened-flashing",
   "metadata": {},
   "source": [
    "### Tabulating the Vaccination Details (This Method Failed in Production :( )"
   ]
  },
  {
   "cell_type": "code",
   "execution_count": 10,
   "id": "assigned-match",
   "metadata": {},
   "outputs": [],
   "source": [
    "dfs = pd.read_html('https://en.wikipedia.org/wiki/COVID-19_vaccination_in_India#Andhra_Pradesh')\n",
    "touse_df = dfs[7]\n"
   ]
  },
  {
   "cell_type": "code",
   "execution_count": 12,
   "id": "narrow-binding",
   "metadata": {},
   "outputs": [],
   "source": [
    "# This method is used to convert multidimensional index values into single indexed values!\n",
    "touse_df.columns = touse_df.columns.get_level_values(0)\n",
    "\n",
    "touse_df.columns = ['State','Population','1st dose',\n",
    "       '2nd dose', 'Cumulative doses administered',\n",
    "       'Percentage of people given at least one dose',\n",
    "       'Percentage of people fully vaccinated']\n",
    "\n",
    "\n",
    "states = list(touse_df['State'])\n",
    "population = list(touse_df['Population'])\n",
    "dose1 = list(touse_df['1st dose'])\n",
    "dose2 = list(touse_df['2nd dose'])\n",
    "atleastonedose = list(touse_df['Percentage of people given at least one dose'])\n",
    "fullyvaccinated = list(touse_df['Percentage of people fully vaccinated'])\n"
   ]
  },
  {
   "cell_type": "code",
   "execution_count": 18,
   "id": "rational-directive",
   "metadata": {},
   "outputs": [],
   "source": [
    "allvaccine = []\n",
    "for i,j,k,l,m,n in zip(states,population,dose1,dose2,atleastonedose,fullyvaccinated):\n",
    "    allvaccine.append([i,j,k,l,m,n])"
   ]
  },
  {
   "cell_type": "code",
   "execution_count": 19,
   "id": "bound-absorption",
   "metadata": {
    "collapsed": true
   },
   "outputs": [
    {
     "data": {
      "text/plain": [
       "[['Andaman and Nicobar Islands',\n",
       "  '380581',\n",
       "  '109084',\n",
       "  '15181',\n",
       "  '28.66%',\n",
       "  '3.99%'],\n",
       " ['Andhra Pradesh', '49577103', '7350968', '2512379', '14.83%', '5.07%'],\n",
       " ['Arunachal Pradesh', '1383727', '255589', '78329', '18.47%', '5.66%'],\n",
       " ['Assam', '31205576', '3304145', '833156', '10.59%', '2.67%'],\n",
       " ['Bihar', '104099452', '8514462', '1791507', '8.18%', '1.72%'],\n",
       " ['Chandigarh', '1055450', '274422', '74901', '26.00%', '7.10%'],\n",
       " ['Chhattisgarh', '25545198', '5892189', '1105870', '23.07%', '4.33%'],\n",
       " ['Dadra and Nagar Haveli', '343709', '78964', '11941', '22.97%', '3.47%'],\n",
       " ['Daman and Diu', '243247', '91091', '14033', '37.45%', '5.77%'],\n",
       " ['Delhi', '16787941', '4185072', '1224334', '24.93%', '7.29%'],\n",
       " ['Goa', '1458545', '433834', '95100', '29.97%', '6.52%'],\n",
       " ['Gujarat', '60439692', '12958838', '4144949', '21.44%', '6.86%'],\n",
       " ['Haryana', '25351462', '4891726', '995845', '19.30%', '3.93%'],\n",
       " ['Himachal Pradesh', '6864602', '2022506', '433621', '29.46%', '6.32%'],\n",
       " ['Jammu and Kashmir', '12267032', '2754337', '546074', '22.45%', '4.45%'],\n",
       " ['Jharkhand', '32988134', '3483409', '710024', '10.56%', '2.15%'],\n",
       " ['Karnataka', '61095297', '10924013', '2753565', '17.88%', '4.51%'],\n",
       " ['Kerala', '33406061', '7334216', '2068520', '21.95%', '6.19%'],\n",
       " ['Ladakh', '274000', '122247', '37290', '44.62%', '13.61%'],\n",
       " ['Lakshadweep', '64473', '26727', '6946', '41.45%', '10.77%'],\n",
       " ['Madhya Pradesh', '72626809', '9375056', '1792248', '12.91%', '2.47%'],\n",
       " ['Maharashtra', '112374333', '18005790', '4569691', '16.02%', '4.07%'],\n",
       " ['Manipur', '2570390', '387473', '70445', '15.07%', '2.74%'],\n",
       " ['Meghalaya', '2966889', '391357', '74340', '13.19%', '2.51%'],\n",
       " ['Mizoram', '1097206', '264123', '51117', '24.07%', '4.66%'],\n",
       " ['Nagaland', '1978502', '216970', '51942', '10.97%', '2.63%'],\n",
       " ['Odisha', '41974219', '6378928', '1477093', '15.20%', '3.52%'],\n",
       " ['Puducherry', '1247953', '217963', '51214', '17.47%', '4.10%'],\n",
       " ['Punjab', '27743338', '4274207', '770462', '15.41%', '2.78%'],\n",
       " ['Rajasthan', '68548437', '13897166', '3116184', '20.27%', '4.55%'],\n",
       " ['Sikkim', '610577', '179263', '59661', '29.36%', '9.77%'],\n",
       " ['Tamil Nadu', '72147030', '7061570', '2032685', '9.79%', '2.82%'],\n",
       " ['Telangana', '35003674', '4796912', '1261921', '13.70%', '3.61%'],\n",
       " ['Tripura', '3673917', '1103052', '507671', '30.02%', '13.82%'],\n",
       " ['Uttar Pradesh', '199812341', '14851890', '3480426', '7.43%', '1.74%'],\n",
       " ['Uttarakhand', '10086292', '2234626', '683922', '22.16%', '6.78%'],\n",
       " ['West Bengal', '91276115', '10834957', '3879574', '11.87%', '4.25%']]"
      ]
     },
     "execution_count": 19,
     "metadata": {},
     "output_type": "execute_result"
    }
   ],
   "source": [
    "allvaccine = allvaccine[:-2]\n",
    "allvaccine"
   ]
  },
  {
   "cell_type": "code",
   "execution_count": 71,
   "id": "seven-noise",
   "metadata": {
    "collapsed": true
   },
   "outputs": [
    {
     "name": "stdout",
     "output_type": "stream",
     "text": [
      "[['Andaman and nicobar islands', 380581, 109084, 15181, 28.66, 3.99], ['Andhra pradesh', 49577103, 9086024, 2610442, 18.33, 5.26], ['Arunachal pradesh', 1383727, 255589, 78329, 18.47, 5.66], ['Assam', 31205576, 3304145, 833156, 10.59, 2.67], ['Bihar', 104099452, 8514462, 1791507, 8.18, 1.72], ['Chandigarh', 1055450, 274422, 74901, 26.0, 7.1], ['Chhattisgarh', 25545198, 5892189, 1105870, 23.07, 4.33], ['Dadra and nagar haveli', 343709, 78964, 11941, 22.97, 3.47], ['Daman and diu', 243247, 91091, 14033, 37.45, 5.77], ['Delhi', 16787941, 4185072, 1224334, 24.93, 7.29], ['Goa', 1458545, 433834, 95100, 29.97, 6.52], ['Gujarat', 60439692, 12958838, 4144949, 21.44, 6.86], ['Haryana', 25351462, 4891726, 995845, 19.3, 3.93], ['Himachal pradesh', 6864602, 2022506, 433621, 29.46, 6.32], ['Jammu and kashmir', 12267032, 2754337, 546074, 22.45, 4.45], ['Jharkhand', 32988134, 3483409, 710024, 10.56, 2.15], ['Karnataka', 61095297, 10924013, 2753565, 17.88, 4.51], ['Kerala', 33406061, 7334216, 2068520, 21.95, 6.19], ['Ladakh', 274000, 122247, 37290, 44.62, 13.61], ['Lakshadweep', 64473, 26727, 6946, 41.45, 10.77], ['Madhya pradesh', 72626809, 9375056, 1792248, 12.91, 2.47], ['Maharashtra', 112374333, 18005790, 4569691, 16.02, 4.07], ['Manipur', 2570390, 387473, 70445, 15.07, 2.74], ['Meghalaya', 2966889, 391357, 74340, 13.19, 2.51], ['Mizoram', 1097206, 264123, 51117, 24.07, 4.66], ['Nagaland', 1978502, 216970, 51942, 10.97, 2.63], ['Odisha', 41974219, 6378928, 1477093, 15.2, 3.52], ['Puducherry', 1247953, 217963, 51214, 17.47, 4.1], ['Punjab', 27743338, 4274207, 770462, 15.41, 2.78], ['Rajasthan', 68548437, 13897166, 3116184, 20.27, 4.55], ['Sikkim', 610577, 179263, 59661, 29.36, 9.77], ['Tamil nadu', 72147030, 7061570, 2032685, 9.79, 2.82], ['Telangana', 35003674, 4796912, 1261921, 13.7, 3.61], ['Tripura', 3673917, 1103052, 507671, 30.02, 13.82], ['Uttar pradesh', 199812341, 14851890, 3480426, 7.43, 1.74], ['Uttarakhand', 10086292, 2234626, 683922, 22.16, 6.78], ['West bengal', 91276115, 10834957, 3879574, 11.87, 4.25]]\n"
     ]
    }
   ],
   "source": [
    "dfs = pd.read_html(\n",
    "            'https://en.wikipedia.org/wiki/COVID-19_vaccination_in_India#Andhra_Pradesh')\n",
    "touse_df = dfs[7]\n",
    "\n",
    "        # This method is used to convert multidimensional index values into single indexed values!\n",
    "touse_df.columns = touse_df.columns.get_level_values(0)\n",
    "touse_df.columns = ['State', 'Population', '1st dose',\n",
    "                            '2nd dose', 'Cumulative doses administered',\n",
    "                            'Percentage of people given at least one dose',\n",
    "                            'Percentage of people fully vaccinated']\n",
    "\n",
    "        # retriving the data from pandas dataframe\n",
    "\n",
    "states = list(touse_df['State'])\n",
    "population = list(touse_df['Population'])\n",
    "dose1 = list(touse_df['1st dose'])\n",
    "dose2 = list(touse_df['2nd dose'])\n",
    "bothdoses = list(touse_df['Cumulative doses administered'])\n",
    "atmostonedose = list(\n",
    "            touse_df['Percentage of people given at least one dose'])\n",
    "fullyvaccinated = list(\n",
    "            touse_df['Percentage of people fully vaccinated'])\n",
    "\n",
    "        # Little preprocessing\n",
    "\n",
    "states = [i.capitalize() for i in states]\n",
    "population = [int(i) for i in population[:-2]]\n",
    "dose1 = [int(i) for i in dose1[:-1]]\n",
    "dose2 = [int(i) for i in dose2[:-1]]\n",
    "atmostonedose = [float(atmostonedose[i].split('%')[0])\n",
    "                         for i in range(len(atmostonedose[:-2]))]\n",
    "fullyvaccinated = [float(fullyvaccinated[i].split('%')[0])\n",
    "                   for i in range(len(fullyvaccinated[:-2]))]\n",
    "\n",
    "alltogether = []\n",
    "for i, j, k, l, m, n in zip(states, population, dose1, dose2, atmostonedose, fullyvaccinated):\n",
    "            alltogether.append([i, j, k, l, m, n])\n",
    "\n",
    "print(alltogether)"
   ]
  },
  {
   "cell_type": "code",
   "execution_count": 73,
   "id": "beginning-confusion",
   "metadata": {},
   "outputs": [],
   "source": [
    "states = states[:-2]"
   ]
  },
  {
   "cell_type": "code",
   "execution_count": 82,
   "id": "dressed-colonial",
   "metadata": {},
   "outputs": [
    {
     "name": "stdout",
     "output_type": "stream",
     "text": [
      "['andaman and nicobar islands', 'andhra pradesh', 'arunachal pradesh', 'assam', 'bihar', 'chandigarh', 'chhattisgarh', 'dadra and nagar haveli', 'daman and diu', 'delhi', 'goa', 'gujarat', 'haryana', 'himachal pradesh', 'jammu and kashmir', 'jharkhand', 'karnataka', 'kerala', 'ladakh', 'lakshadweep', 'madhya pradesh', 'maharashtra', 'manipur', 'meghalaya', 'mizoram', 'nagaland', 'odisha', 'puducherry', 'punjab', 'rajasthan', 'sikkim', 'tamil nadu', 'telangana', 'tripura', 'uttar pradesh', 'uttarakhand', 'west bengal']\n"
     ]
    }
   ],
   "source": [
    "print(states)"
   ]
  },
  {
   "cell_type": "markdown",
   "id": "corporate-baseline",
   "metadata": {},
   "source": [
    "### Scarrping Data  (successfu"
   ]
  },
  {
   "cell_type": "code",
   "execution_count": 12,
   "id": "alert-wallet",
   "metadata": {},
   "outputs": [],
   "source": [
    "from bs4 import BeautifulSoup\n",
    "import json\n",
    "import pandas as pd\n",
    "import requests\n",
    "from pprint import pprint"
   ]
  },
  {
   "cell_type": "code",
   "execution_count": 83,
   "id": "involved-toilet",
   "metadata": {},
   "outputs": [],
   "source": [
    "url = 'https://en.wikipedia.org/wiki/COVID-19_vaccination_in_India#Andhra_Pradesh'\n",
    "response = requests.get(url)\n",
    "soup = BeautifulSoup(response.text,\"html.parser\")\n",
    "data = []\n",
    "table = soup.find('table', attrs={\"class\":\"plainrowheaders\"})\n",
    "table_body = table.find('tbody')\n",
    "\n",
    "rows = table_body.find_all('tr')\n",
    "for row in rows:\n",
    "    cols = row.find_all('td')\n",
    "    cols = [ele.text.strip() for ele in cols]\n",
    "    data.append([ele for ele in cols if ele]) # Get rid of empty values\n",
    "    \n",
    "    \n",
    "\n",
    "\n",
    "data = data[2:]\n",
    "data = data[:-2]\n",
    "population = [int(''.join(data[i][0].split(','))) for i in range(len(data))]\n",
    "dose1 = [int(''.join(data[i][1].split(','))) for i in range(len(data))]\n",
    "dose2 = [int(''.join(data[i][2].split(','))) for i in range(len(data))]\n",
    "atleastonedose = [float(data[i][4].split('%')[0]) for i in range(len(data))]\n",
    "fullyvaccinated = [float(data[i][5].split('%')[0])for i in range(len(data))]"
   ]
  },
  {
   "cell_type": "code",
   "execution_count": 63,
   "id": "detailed-skill",
   "metadata": {},
   "outputs": [],
   "source": [
    "# Cols : population 1st dose,2nd dose,cummulative dose,atleastonedose,fullyvaccinated"
   ]
  },
  {
   "cell_type": "code",
   "execution_count": 74,
   "id": "herbal-region",
   "metadata": {},
   "outputs": [
    {
     "name": "stdout",
     "output_type": "stream",
     "text": [
      "['Andaman and nicobar islands', 'Andhra pradesh', 'Arunachal pradesh', 'Assam', 'Bihar', 'Chandigarh', 'Chhattisgarh', 'Dadra and nagar haveli', 'Daman and diu', 'Delhi', 'Goa', 'Gujarat', 'Haryana', 'Himachal pradesh', 'Jammu and kashmir', 'Jharkhand', 'Karnataka', 'Kerala', 'Ladakh', 'Lakshadweep', 'Madhya pradesh', 'Maharashtra', 'Manipur', 'Meghalaya', 'Mizoram', 'Nagaland', 'Odisha', 'Puducherry', 'Punjab', 'Rajasthan', 'Sikkim', 'Tamil nadu', 'Telangana', 'Tripura', 'Uttar pradesh', 'Uttarakhand', 'West bengal']\n"
     ]
    }
   ],
   "source": [
    "print(states)"
   ]
  },
  {
   "cell_type": "code",
   "execution_count": 79,
   "id": "loved-layout",
   "metadata": {},
   "outputs": [],
   "source": [
    "states = [i.lower() for i in states]\n",
    "populationmap = dict(list(\n",
    "            (sorted(dict(zip(states, population)).items(), key=lambda x: x[1], reverse=True))))\n",
    "dose1_map = dict(list(\n",
    "            (sorted(dict(zip(states, dose1)).items(), key=lambda x: x[1], reverse=True))))\n",
    "dose2_map = dict(list(\n",
    "            (sorted(dict(zip(states, dose2)).items(), key=lambda x: x[1], reverse=True))))\n",
    "atmostonedose_map = dict(list((sorted(\n",
    "            dict(zip(states, atmostonedose)).items(), key=lambda x: x[1], reverse=True))))\n",
    "fulldosemap = dict(list((sorted(\n",
    "            dict(zip(states, fullyvaccinated)).items(), key=lambda x: x[1], reverse=True))))"
   ]
  },
  {
   "cell_type": "code",
   "execution_count": 80,
   "id": "noted-washer",
   "metadata": {
    "collapsed": true
   },
   "outputs": [
    {
     "data": {
      "text/plain": [
       "{'uttar pradesh': 199812341,\n",
       " 'maharashtra': 112374333,\n",
       " 'bihar': 104099452,\n",
       " 'west bengal': 91276115,\n",
       " 'madhya pradesh': 72626809,\n",
       " 'tamil nadu': 72147030,\n",
       " 'rajasthan': 68548437,\n",
       " 'karnataka': 61095297,\n",
       " 'gujarat': 60439692,\n",
       " 'andhra pradesh': 49577103,\n",
       " 'odisha': 41974219,\n",
       " 'telangana': 35003674,\n",
       " 'kerala': 33406061,\n",
       " 'jharkhand': 32988134,\n",
       " 'assam': 31205576,\n",
       " 'punjab': 27743338,\n",
       " 'chhattisgarh': 25545198,\n",
       " 'haryana': 25351462,\n",
       " 'delhi': 16787941,\n",
       " 'jammu and kashmir': 12267032,\n",
       " 'uttarakhand': 10086292,\n",
       " 'himachal pradesh': 6864602,\n",
       " 'tripura': 3673917,\n",
       " 'meghalaya': 2966889,\n",
       " 'manipur': 2570390,\n",
       " 'nagaland': 1978502,\n",
       " 'goa': 1458545,\n",
       " 'arunachal pradesh': 1383727,\n",
       " 'puducherry': 1247953,\n",
       " 'mizoram': 1097206,\n",
       " 'chandigarh': 1055450,\n",
       " 'sikkim': 610577,\n",
       " 'andaman and nicobar islands': 380581,\n",
       " 'dadra and nagar haveli': 343709,\n",
       " 'ladakh': 274000,\n",
       " 'daman and diu': 243247,\n",
       " 'lakshadweep': 64473}"
      ]
     },
     "execution_count": 80,
     "metadata": {},
     "output_type": "execute_result"
    }
   ],
   "source": [
    "populationmap"
   ]
  },
  {
   "cell_type": "code",
   "execution_count": null,
   "id": "celtic-payday",
   "metadata": {},
   "outputs": [],
   "source": []
  }
 ],
 "metadata": {
  "kernelspec": {
   "display_name": "Python 3",
   "language": "python",
   "name": "python3"
  },
  "language_info": {
   "codemirror_mode": {
    "name": "ipython",
    "version": 3
   },
   "file_extension": ".py",
   "mimetype": "text/x-python",
   "name": "python",
   "nbconvert_exporter": "python",
   "pygments_lexer": "ipython3",
   "version": "3.9.1"
  }
 },
 "nbformat": 4,
 "nbformat_minor": 5
}
